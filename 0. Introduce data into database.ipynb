{
 "cells": [
  {
   "cell_type": "code",
   "execution_count": 2,
   "metadata": {
    "ExecuteTime": {
     "end_time": "2021-07-01T09:38:42.389799Z",
     "start_time": "2021-07-01T09:38:29.466184Z"
    }
   },
   "outputs": [],
   "source": [
    "import pandas as pd\n",
    "import numpy as np\n",
    "import datetime\n",
    "import ast\n",
    "import psycopg2 \n",
    "\n",
    "from sqlalchemy import create_engine\n",
    "from sqlalchemy import create_engine, Table, MetaData\n",
    "import sqlalchemy.types"
   ]
  },
  {
   "cell_type": "code",
   "execution_count": null,
   "metadata": {
    "ExecuteTime": {
     "end_time": "2021-06-30T11:50:25.370573Z",
     "start_time": "2021-06-30T11:50:20.161918Z"
    }
   },
   "outputs": [],
   "source": [
    "# Indices details as ticker, market...\n",
    "credentials = ast.literal_eval(open(r\"C:\\Users\\pablo\\OneDrive - unizar.es\\Python Investigación\\credentials.txt\", \"r\").read())\n",
    "sql_engine = create_engine(credentials['sqlalchemy'][0]+ 'IndexSustainabilityLevel')\n",
    "conn = psycopg2.connect(dbname='IndexSustainabilityLevel', user=credentials['psycopg2'][0], \n",
    "                    password=credentials['psycopg2'][1], host=credentials['psycopg2'][2], port =credentials['psycopg2'][3])\n",
    "cur = conn.cursor()"
   ]
  },
  {
   "cell_type": "code",
   "execution_count": 41,
   "metadata": {
    "ExecuteTime": {
     "end_time": "2021-06-30T11:50:25.370573Z",
     "start_time": "2021-06-30T11:50:20.161918Z"
    }
   },
   "outputs": [],
   "source": [
    "equity_indices_detail=pd.read_excel(r'C:\\Users\\pablo\\OneDrive - unizar.es\\Artículo 1\\4.1. Descarga capitalización y sectores de las empresas ESG Reuters (7.469)\\EquityIndicesDetail.xlsx')\n",
    "equity_indices_detail.to_sql('EquityIndexDetails', sql_engine, if_exists=\"replace\", index=False)"
   ]
  },
  {
   "cell_type": "code",
   "execution_count": null,
   "metadata": {
    "ExecuteTime": {
     "end_time": "2021-06-29T17:48:41.720037Z",
     "start_time": "2021-06-29T17:29:46.193528Z"
    }
   },
   "outputs": [],
   "source": [
    "# indices constituents to database\n",
    "# change numeric date to datetime\n",
    "def obtain_date(numeric_date):    \n",
    "    numeric_date = str(numeric_date)\n",
    "    numeric_date = datetime.datetime(int(numeric_date[0:4]),int(numeric_date[4:6]),1)\n",
    "    return numeric_date\n",
    "\n",
    "equity_indices_details = pd.read_sql('EquityIndexDetails', sql_engine)\n",
    "for row in range(0, len(equity_indices_details)):\n",
    "    index_ticker = equity_indices_details.iat[row,1]\n",
    "    # we read each listado with the information of the index\n",
    "    df_index = pd.read_excel(r'C:\\Users\\pablo\\OneDrive - unizar.es\\Artículo 1\\4.1. Descarga capitalización y sectores de las empresas ESG Reuters (7.469)\\1. Listados\\Listados Índices\\%s.xlsx' % index_ticker)\n",
    "    df_index['IndexTicker'] = index_ticker # We add a column with the ticker of the index\n",
    "    df_index = df_index.loc[:, ['IndexTicker', 'ISIN', 'Fecha Numerica', 'Type', 'NAME', 'WTIDX']] # change order of columns\n",
    "    df_index.columns = ['IndexTicker', 'IsinCode', 'MonthlyDate', 'DsType', 'DsName', 'CompanyWeight'] # change the name\n",
    "    df_index['MonthlyDate'] = df_index['MonthlyDate'].apply(obtain_date) # numeric date to datetime\n",
    "    # we append the columns to the databse\n",
    "    df_index.to_sql('EquityIndicesConstituents', sql_engine, index=False, \n",
    "                    if_exists=\"append\", chunksize=100000, method='multi' )\n",
    "    print(index_ticker)\n",
    "    "
   ]
  },
  {
   "cell_type": "code",
   "execution_count": null,
   "metadata": {
    "ExecuteTime": {
     "end_time": "2020-12-31T16:44:04.057081Z",
     "start_time": "2020-12-31T16:39:24.545177Z"
    }
   },
   "outputs": [],
   "source": [
    "monthly_scores = pd.read_excel(r\"C:\\Users\\pablo\\OneDrive - unizar.es\\Artículo 1\\4.1. Descarga capitalización y sectores de las empresas ESG Reuters (7.469)\\Excel central con  tablas de trabajo.xlsm\",\n",
    "                          usecols =\"B:D, R:U, Y\" )\n",
    "\n",
    "all_scores.columns = ['MonthlyDate', 'DsName', 'IsinCode', 'MarketValueUsd', 'EsgScore', 'CombinedScore',\n",
    "       'ControversiesScore', 'WcNation']\n",
    "\n",
    "all_scores.to_sql('CompaniesMonthlyData', sql_engine, chunksize=100000, method='multi', index=False)"
   ]
  },
  {
   "cell_type": "code",
   "execution_count": null,
   "metadata": {
    "ExecuteTime": {
     "end_time": "2020-12-31T16:44:04.057081Z",
     "start_time": "2020-12-31T16:39:24.545177Z"
    }
   },
   "outputs": [],
   "source": [
    "geo_classification = pd.read_excel(r\"C:\\Users\\pablo\\OneDrive - unizar.es\\Artículo 1\\4.1. Descarga capitalización y sectores de las empresas ESG Reuters (7.469)\\Excel central con  tablas de trabajo.xlsm\",\n",
    "                          sheet_name =\"Info Títulos\" )"
   ]
  },
  {
   "cell_type": "code",
   "execution_count": 23,
   "metadata": {
    "ExecuteTime": {
     "end_time": "2021-06-30T11:39:58.245468Z",
     "start_time": "2021-06-30T11:39:58.230507Z"
    },
    "code_folding": []
   },
   "outputs": [],
   "source": []
  },
  {
   "cell_type": "code",
   "execution_count": 4,
   "metadata": {
    "ExecuteTime": {
     "end_time": "2021-07-01T09:38:54.674691Z",
     "start_time": "2021-07-01T09:38:54.276426Z"
    },
    "code_folding": []
   },
   "outputs": [],
   "source": [
    "# Indices details as ticker, market...\n",
    "credentials = ast.literal_eval(open(r\"C:\\Users\\pablo\\OneDrive - unizar.es\\Python Investigación\\credentials.txt\", \"r\").read())\n",
    "sql_engine = create_engine(credentials['sqlalchemy'][0]+ 'FinancialResearch')"
   ]
  },
  {
   "cell_type": "code",
   "execution_count": 31,
   "metadata": {
    "ExecuteTime": {
     "end_time": "2021-07-01T10:20:50.004436Z",
     "start_time": "2021-07-01T10:20:26.643475Z"
    },
    "code_folding": []
   },
   "outputs": [],
   "source": [
    "df = pd.read_sql(\"\"\"  \n",
    "SELECT info.isin_code, cont.year, cont.year, cont.end_fiscal_period, cont.datastream_id, cont.return_on_assets,  cont.return_on_equity, \n",
    "cont.long_term_debt / NULLIF(cont.total_assets,0) AS long_debt_to_assets,\n",
    "cont.total_liabilities /  NULLIF(cont.total_assets,0) AS total_liabilities_to_assets,\n",
    "cont.additions_fixed_assets / NULLIF(cont.total_assets,0) AS additions_fixed_assets_to_assets\n",
    "FROM market.yearly_accounting AS cont\n",
    "INNER JOIN esg.companies_esg_refinitiv AS info\n",
    "ON info.datastream_id = cont.datastream_id\n",
    "\"\"\", sql_engine)"
   ]
  },
  {
   "cell_type": "code",
   "execution_count": 34,
   "metadata": {
    "ExecuteTime": {
     "end_time": "2021-07-01T10:41:28.340806Z",
     "start_time": "2021-07-01T10:41:28.318865Z"
    }
   },
   "outputs": [],
   "source": [
    "credentials = ast.literal_eval(open(r\"C:\\Users\\pablo\\OneDrive - unizar.es\\Python Investigación\\credentials.txt\", \"r\").read())\n",
    "sql_engine = create_engine(credentials['sqlalchemy'][0]+ 'IndexSustainabilityLevel')\n",
    "df.dropna().to_sql('yearly_accounting', sql_engine, if_exists='replace', chunksize=100000, method='multi', index=False)"
   ]
  }
 ],
 "metadata": {
  "hide_input": false,
  "kernelspec": {
   "display_name": "Python 3",
   "language": "python",
   "name": "python3"
  },
  "language_info": {
   "codemirror_mode": {
    "name": "ipython",
    "version": 3
   },
   "file_extension": ".py",
   "mimetype": "text/x-python",
   "name": "python",
   "nbconvert_exporter": "python",
   "pygments_lexer": "ipython3",
   "version": "3.8.0"
  },
  "toc": {
   "base_numbering": 1,
   "nav_menu": {},
   "number_sections": true,
   "sideBar": true,
   "skip_h1_title": false,
   "title_cell": "Table of Contents",
   "title_sidebar": "Contents",
   "toc_cell": false,
   "toc_position": {},
   "toc_section_display": true,
   "toc_window_display": false
  }
 },
 "nbformat": 4,
 "nbformat_minor": 2
}
